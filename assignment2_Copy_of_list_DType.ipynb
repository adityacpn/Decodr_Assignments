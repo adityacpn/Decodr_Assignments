{
 "cells": [
  {
   "cell_type": "markdown",
   "metadata": {
    "id": "7DHlxw7KS4LO"
   },
   "source": [
    "**[Slide No.- 35]**\n",
    "\n",
    "1. Create a empty list and check its Data type "
   ]
  },
  {
   "cell_type": "code",
   "execution_count": null,
   "metadata": {
    "colab": {
     "base_uri": "https://localhost:8080/"
    },
    "id": "9tPdozyQj7cu",
    "outputId": "d651faa7-ef1d-4df2-a276-a93f77677da5"
   },
   "outputs": [
    {
     "data": {
      "text/plain": [
       "list"
      ]
     },
     "execution_count": 1,
     "metadata": {
      "tags": []
     },
     "output_type": "execute_result"
    }
   ],
   "source": [
    "list1 = []\n",
    "type(list1)"
   ]
  },
  {
   "cell_type": "code",
   "execution_count": null,
   "metadata": {
    "colab": {
     "base_uri": "https://localhost:8080/"
    },
    "id": "RtfUHgj5a45J",
    "outputId": "2a7f3074-7258-446c-bea5-e960cfcd4c18"
   },
   "outputs": [
    {
     "name": "stdout",
     "output_type": "stream",
     "text": [
      "data type of a:  <class 'list'>\n"
     ]
    }
   ],
   "source": [
    "\n"
   ]
  },
  {
   "cell_type": "markdown",
   "metadata": {
    "id": "4EnsxsI0FPcv"
   },
   "source": []
  },
  {
   "cell_type": "code",
   "execution_count": null,
   "metadata": {
    "id": "ef5HNtgtSDwz"
   },
   "outputs": [],
   "source": []
  },
  {
   "cell_type": "markdown",
   "metadata": {
    "id": "KbC4gtb0Wo4u"
   },
   "source": [
    "**[Slide No.- 35]**\n",
    "\n",
    "2. Create a list in which at even places string are present and at odd places integervalue is present and the length of the string is 6."
   ]
  },
  {
   "cell_type": "code",
   "execution_count": null,
   "metadata": {
    "id": "BzIsIJzXWpMO"
   },
   "outputs": [],
   "source": [
    "\n",
    "random = ['abc',1,'def',3,'ghi',5]"
   ]
  },
  {
   "cell_type": "markdown",
   "metadata": {
    "id": "NhGbCdSfTFa7"
   },
   "source": [
    "**[Slide No. - 36]**\n",
    "\n",
    "3. Create a lsit which has 6 elements and print last three elements from the list "
   ]
  },
  {
   "cell_type": "code",
   "execution_count": null,
   "metadata": {
    "colab": {
     "base_uri": "https://localhost:8080/"
    },
    "id": "SUzgZi8DTF5C",
    "outputId": "79c4b7a8-7128-4ef5-c5db-61b9f8bbc187"
   },
   "outputs": [
    {
     "data": {
      "text/plain": [
       "[8.5, 'erfev', 98]"
      ]
     },
     "execution_count": 3,
     "metadata": {
      "tags": []
     },
     "output_type": "execute_result"
    }
   ],
   "source": [
    "\n",
    "random1 = ['q',5,-3,8.5,'erfev',98]\n",
    "random1[-3:]"
   ]
  },
  {
   "cell_type": "markdown",
   "metadata": {
    "id": "3LhHLCB6Tm8K"
   },
   "source": [
    "**[Slide No. - 36 ]**\n",
    "\n",
    "4. What is the output :\n",
    " list = [1,2,3,4,5,6,7] \n",
    " \n",
    " list[:]=?"
   ]
  },
  {
   "cell_type": "code",
   "execution_count": null,
   "metadata": {
    "colab": {
     "base_uri": "https://localhost:8080/"
    },
    "id": "zfkX5LLzTnXP",
    "outputId": "e306fcee-b9f9-4025-f4fd-4858aa0f3e01"
   },
   "outputs": [
    {
     "data": {
      "text/plain": [
       "[1, 2, 3, 4, 5, 6, 7]"
      ]
     },
     "execution_count": 4,
     "metadata": {
      "tags": []
     },
     "output_type": "execute_result"
    }
   ],
   "source": [
    "[1,2,3,4,5,6,7]"
   ]
  },
  {
   "cell_type": "markdown",
   "metadata": {
    "id": "93qfPdkuTnfg"
   },
   "source": [
    "**[Slide No. - 36]**\n",
    "\n",
    "5. What is the output : list = [1,2,3,4,5,6,7]\n",
    "\n",
    "Print the even places items from the list."
   ]
  },
  {
   "cell_type": "code",
   "execution_count": null,
   "metadata": {
    "colab": {
     "base_uri": "https://localhost:8080/"
    },
    "id": "otaNABAtTnrp",
    "outputId": "53e433f9-5e87-4274-f13d-a75a237949fc"
   },
   "outputs": [
    {
     "data": {
      "text/plain": [
       "[1, 3, 5, 7]"
      ]
     },
     "execution_count": 5,
     "metadata": {
      "tags": []
     },
     "output_type": "execute_result"
    }
   ],
   "source": [
    "list2 = [1,2,3,4,5,6,7]\n",
    "list2[::2]"
   ]
  },
  {
   "cell_type": "markdown",
   "metadata": {
    "id": "SdSk9Z-vTn4h"
   },
   "source": [
    "**[Slide No. - 36]**\n",
    "\n",
    "6. What is the output : list = [1,2,3,4,10,11,7]\n",
    "\n",
    "print 10 and 11 item from the list ."
   ]
  },
  {
   "cell_type": "code",
   "execution_count": null,
   "metadata": {
    "colab": {
     "base_uri": "https://localhost:8080/"
    },
    "id": "i9rupinIToAR",
    "outputId": "d01816fa-cab7-41b7-bb78-0c95754859a9"
   },
   "outputs": [
    {
     "data": {
      "text/plain": [
       "[10, 11]"
      ]
     },
     "execution_count": 6,
     "metadata": {
      "tags": []
     },
     "output_type": "execute_result"
    }
   ],
   "source": [
    "list3 = [1,2,3,4,10,11,7]\n",
    "list3[-3:-1]\n"
   ]
  },
  {
   "cell_type": "code",
   "execution_count": null,
   "metadata": {
    "colab": {
     "base_uri": "https://localhost:8080/"
    },
    "id": "MwcV2xqgOIb9",
    "outputId": "038e75c3-1912-4ce6-fb61-b3415472221c"
   },
   "outputs": [
    {
     "data": {
      "text/plain": [
       "[7, 11, 10, 4, 3, 2, 1]"
      ]
     },
     "execution_count": 10,
     "metadata": {
      "tags": []
     },
     "output_type": "execute_result"
    }
   ],
   "source": []
  },
  {
   "cell_type": "markdown",
   "metadata": {
    "id": "jKf-xLTiToHF"
   },
   "source": [
    "**[Slide No. -38]**\n",
    "\n",
    "7.  Delete the 3 index value from the list and the print the list.\n",
    "\n",
    "list = [1, 2, 3, 4, 5, 6]    \n",
    "\n",
    "print(list)    \n",
    "    \n",
    " "
   ]
  },
  {
   "cell_type": "code",
   "execution_count": null,
   "metadata": {
    "colab": {
     "base_uri": "https://localhost:8080/"
    },
    "id": "YSwSSoZSToQT",
    "outputId": "f204dc4e-8288-49d6-c6d0-fe1bcc01abde"
   },
   "outputs": [
    {
     "name": "stdout",
     "output_type": "stream",
     "text": [
      "[1, 2, 3, 5, 6]\n"
     ]
    }
   ],
   "source": [
    "list4 = [1,2,3,4,5,6]\n",
    "list4.pop(3)\n",
    "print(list4)"
   ]
  },
  {
   "cell_type": "code",
   "execution_count": null,
   "metadata": {
    "colab": {
     "base_uri": "https://localhost:8080/"
    },
    "id": "mX3qq3_NPGbL",
    "outputId": "196829d8-51cd-41d7-c6f3-391b07ccceb7"
   },
   "outputs": [
    {
     "name": "stdout",
     "output_type": "stream",
     "text": [
      "[1, 2, 3, 5, 6]\n"
     ]
    }
   ],
   "source": [
    "\n"
   ]
  },
  {
   "cell_type": "markdown",
   "metadata": {
    "id": "XqIA7Ia9Umga"
   },
   "source": [
    "[Slide No. - 37]\n",
    "8. list = [1, \"a\", 3, 4, 5, 6] \n",
    "\n",
    "replace \"a\" by 2 in the list\n",
    "\n",
    "What is the new list?"
   ]
  },
  {
   "cell_type": "code",
   "execution_count": null,
   "metadata": {
    "colab": {
     "base_uri": "https://localhost:8080/"
    },
    "id": "fCgmnwKlUm7K",
    "outputId": "f6146a07-533d-41b8-e33e-645f94e29009"
   },
   "outputs": [
    {
     "name": "stdout",
     "output_type": "stream",
     "text": [
      "[1, 2, 3, 4, 5, 6]\n"
     ]
    }
   ],
   "source": [
    "list5 = [1,\"a\",3,4,5,6]\n",
    "list5[1] = 2\n",
    "print(list5)"
   ]
  },
  {
   "cell_type": "code",
   "execution_count": null,
   "metadata": {
    "colab": {
     "base_uri": "https://localhost:8080/"
    },
    "id": "RGKbvZV9QXqw",
    "outputId": "46e5d011-cf6e-4189-ea49-7fc93a8292a8"
   },
   "outputs": [
    {
     "name": "stdout",
     "output_type": "stream",
     "text": [
      "Krish\n"
     ]
    }
   ],
   "source": []
  },
  {
   "cell_type": "markdown",
   "metadata": {
    "id": "PbqBBeiMUnMA"
   },
   "source": [
    "**[Slide No - 37]**\n",
    "\n",
    "9. list = [1, 2, 3, 4, 5, 6] \n",
    "\n",
    "by using neagtive indexing replace 5 by 'e' in the list \n",
    "\n",
    "print(list)"
   ]
  },
  {
   "cell_type": "code",
   "execution_count": null,
   "metadata": {
    "colab": {
     "base_uri": "https://localhost:8080/"
    },
    "id": "EsvRWH48UnWJ",
    "outputId": "30bace77-1183-4da3-9a79-ac5d0ea98e6e"
   },
   "outputs": [
    {
     "name": "stdout",
     "output_type": "stream",
     "text": [
      "[1, 2, 3, 4, 'e', 6]\n"
     ]
    }
   ],
   "source": [
    "list6 = [1,2,3,4,5,6]\n",
    "list6[-2] = 'e'\n",
    "print(list6)"
   ]
  },
  {
   "cell_type": "markdown",
   "metadata": {
    "id": "-2YsXQGKVGxY"
   },
   "source": [
    "**[Slide No. - 37]**\n",
    "\n",
    "10. list = [1, 2, 3, 4, 5, 6] \n",
    "\n",
    "replace 1st and 2nd index value by (89,78)\n",
    "\n",
    "print(list) "
   ]
  },
  {
   "cell_type": "code",
   "execution_count": null,
   "metadata": {
    "colab": {
     "base_uri": "https://localhost:8080/"
    },
    "id": "G3JxP2ToVGCt",
    "outputId": "71af3915-3345-4d16-d7b0-2e8851000846"
   },
   "outputs": [
    {
     "name": "stdout",
     "output_type": "stream",
     "text": [
      "[1, 89, 78, 4, 5, 6]\n"
     ]
    }
   ],
   "source": [
    "list7 = [1,2,3,4,5,6]\n",
    "list7[1:3]=89,78\n",
    "\n",
    "print(list7)"
   ]
  },
  {
   "cell_type": "markdown",
   "metadata": {
    "id": "5PEGDtZgVeTB"
   },
   "source": [
    "**[Slide No. -38]**\n",
    "\n",
    "11. Create a list and delete 2 to 4 index value  from list ?"
   ]
  },
  {
   "cell_type": "code",
   "execution_count": null,
   "metadata": {
    "colab": {
     "base_uri": "https://localhost:8080/"
    },
    "id": "tuy0DMDqZ7Ux",
    "outputId": "71c2e35a-059a-4842-d7c0-9135fc8bbef8"
   },
   "outputs": [
    {
     "name": "stdout",
     "output_type": "stream",
     "text": [
      "[1, 2, 6]\n"
     ]
    }
   ],
   "source": [
    "list8 = [1,2,3,4,5,6]\n",
    "rem = [2,2,2]\n",
    "for l in rem:\n",
    "    list8.pop(l)\n",
    "print(list8)"
   ]
  },
  {
   "cell_type": "markdown",
   "metadata": {
    "id": "-OszCxUMZ8GW"
   },
   "source": [
    "**[Slide No.- 39]**\n",
    "\n",
    "12. Rermove Science  item from the list.\n",
    "\n",
    "Subject =['math', 'science', 'hindi', 'SST', 'Sanskrit']\n"
   ]
  },
  {
   "cell_type": "code",
   "execution_count": null,
   "metadata": {
    "colab": {
     "base_uri": "https://localhost:8080/"
    },
    "id": "PwSvcAWJVexl",
    "outputId": "01edc087-6d3b-4336-ed71-8d1cca35ea76"
   },
   "outputs": [
    {
     "name": "stdout",
     "output_type": "stream",
     "text": [
      "['math', 'hindi', 'SST', 'Sanskrit']\n"
     ]
    }
   ],
   "source": [
    "list9 = ['math', 'science', 'hindi', 'SST', 'Sanskrit']\n",
    "list9.remove('science')\n",
    "print(list9)"
   ]
  },
  {
   "cell_type": "code",
   "execution_count": null,
   "metadata": {
    "colab": {
     "base_uri": "https://localhost:8080/"
    },
    "id": "L2loVsc_TFSq",
    "outputId": "97e088dd-e4b5-47f5-ef64-42e024961b0e"
   },
   "outputs": [
    {
     "data": {
      "text/plain": [
       "['math', 'hindi', 'SST', 'Sanskrit']"
      ]
     },
     "execution_count": 24,
     "metadata": {
      "tags": []
     },
     "output_type": "execute_result"
    }
   ],
   "source": []
  },
  {
   "cell_type": "code",
   "execution_count": null,
   "metadata": {
    "id": "udi7tJ8kTsuB"
   },
   "outputs": [],
   "source": []
  }
 ],
 "metadata": {
  "colab": {
   "collapsed_sections": [],
   "name": "Copy of list_DType.ipynb",
   "provenance": []
  },
  "kernelspec": {
   "display_name": "Python 3",
   "language": "python",
   "name": "python3"
  },
  "language_info": {
   "codemirror_mode": {
    "name": "ipython",
    "version": 3
   },
   "file_extension": ".py",
   "mimetype": "text/x-python",
   "name": "python",
   "nbconvert_exporter": "python",
   "pygments_lexer": "ipython3",
   "version": "3.8.10"
  }
 },
 "nbformat": 4,
 "nbformat_minor": 1
}
