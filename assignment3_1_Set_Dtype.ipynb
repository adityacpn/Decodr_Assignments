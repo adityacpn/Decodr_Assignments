{
 "cells": [
  {
   "cell_type": "markdown",
   "metadata": {
    "id": "jh5m4BfimJbE"
   },
   "source": [
    "**[Slide No. 41]**\n",
    "\n",
    "1. Write a Python program to create a set."
   ]
  },
  {
   "cell_type": "code",
   "execution_count": 1,
   "metadata": {
    "colab": {
     "base_uri": "https://localhost:8080/"
    },
    "executionInfo": {
     "elapsed": 39,
     "status": "ok",
     "timestamp": 1621776408787,
     "user": {
      "displayName": "Krishan Kumar",
      "photoUrl": "",
      "userId": "12260471180281868064"
     },
     "user_tz": 420
    },
    "id": "CTpqrX9_n3Sc",
    "outputId": "f02feb86-3556-4705-fad3-71c8a9b57957"
   },
   "outputs": [
    {
     "data": {
      "text/plain": [
       "{2, 3423, '854', 'sas'}"
      ]
     },
     "execution_count": 1,
     "metadata": {},
     "output_type": "execute_result"
    }
   ],
   "source": [
    "set1 = {2,'sas','854',3423}\n",
    "set1"
   ]
  },
  {
   "cell_type": "markdown",
   "metadata": {
    "id": "u1lQCDqqmJvW"
   },
   "source": [
    "**[Slide No.41]**\n",
    "\n",
    "2. Write a Python program to add member(s) in a set."
   ]
  },
  {
   "cell_type": "code",
   "execution_count": 2,
   "metadata": {
    "colab": {
     "base_uri": "https://localhost:8080/"
    },
    "executionInfo": {
     "elapsed": 512,
     "status": "ok",
     "timestamp": 1621776747557,
     "user": {
      "displayName": "Krishan Kumar",
      "photoUrl": "",
      "userId": "12260471180281868064"
     },
     "user_tz": 420
    },
    "id": "G3Mwr81Wn3vK",
    "outputId": "5d4b4619-3282-4c28-b2c7-1b0a70a4735b"
   },
   "outputs": [
    {
     "name": "stdout",
     "output_type": "stream",
     "text": [
      "{'656', 2, 'sas', '854', 3423}\n"
     ]
    }
   ],
   "source": [
    "set1.add('656')\n",
    "print(set1)"
   ]
  },
  {
   "cell_type": "markdown",
   "metadata": {
    "id": "_K8Yt3yCmJy7"
   },
   "source": [
    "**[Slide No. 41]**\n",
    " \n",
    " 3. Write a Python program to add string , int, list and float  member(s) in a set."
   ]
  },
  {
   "cell_type": "code",
   "execution_count": 3,
   "metadata": {
    "colab": {
     "base_uri": "https://localhost:8080/"
    },
    "executionInfo": {
     "elapsed": 2754,
     "status": "ok",
     "timestamp": 1619161131867,
     "user": {
      "displayName": "Krishan Kumar",
      "photoUrl": "",
      "userId": "12260471180281868064"
     },
     "user_tz": 420
    },
    "id": "LRjHXMPXn4RT",
    "outputId": "03941903-5cad-4d7e-e6cc-3a25ee265cbf"
   },
   "outputs": [
    {
     "data": {
      "text/plain": [
       "{(45, 878, 626), 1, 5, 55.62, 6, 8884, 'string'}"
      ]
     },
     "execution_count": 3,
     "metadata": {},
     "output_type": "execute_result"
    }
   ],
   "source": [
    "set2 = {1,5,6}\n",
    "list1 = [45,878,626]\n",
    "string = 'string'\n",
    "inte = 8884\n",
    "floa = 55.62\n",
    "\n",
    "list2 = [tuple(list1),string,inte,floa]\n",
    "for w in list2:\n",
    "    set2.add(w)\n",
    "set2"
   ]
  },
  {
   "cell_type": "code",
   "execution_count": 4,
   "metadata": {},
   "outputs": [
    {
     "data": {
      "text/plain": [
       "{(45, 878, 626),\n",
       " 1,\n",
       " 2,\n",
       " 3423,\n",
       " 45,\n",
       " 5,\n",
       " 55.62,\n",
       " 6,\n",
       " 626,\n",
       " '656',\n",
       " '854',\n",
       " 878,\n",
       " 8884,\n",
       " 'sas',\n",
       " 'string'}"
      ]
     },
     "execution_count": 4,
     "metadata": {},
     "output_type": "execute_result"
    }
   ],
   "source": [
    "set1.update(list1)\n",
    "set1.update(set2)\n",
    "set1"
   ]
  },
  {
   "cell_type": "markdown",
   "metadata": {
    "id": "eP30xm0cmJ2K"
   },
   "source": [
    "**[Slide No. 41]**\n",
    "\n",
    "4. Write a program to add multiple element in set. "
   ]
  },
  {
   "cell_type": "code",
   "execution_count": 5,
   "metadata": {
    "id": "wIt1MXX2n4va"
   },
   "outputs": [
    {
     "data": {
      "text/plain": [
       "{1, 23.32, 3, 45, 626, 878, 'fsdfs'}"
      ]
     },
     "execution_count": 5,
     "metadata": {},
     "output_type": "execute_result"
    }
   ],
   "source": [
    "set3 = {3,1,23.32,'fsdfs'}\n",
    "#set3.update(set2)\n",
    "set3.update(set(list1))\n",
    "set3"
   ]
  },
  {
   "cell_type": "markdown",
   "metadata": {
    "id": "MMb-QgjymJ5h"
   },
   "source": [
    "**[Slide No. 43]**\n",
    "\n",
    "5. What is the output :\n",
    "\n",
    "my_set = {1, 3, 4, 5, 6}\n",
    "\n",
    "Explain the difference between discard and remove method in set"
   ]
  },
  {
   "cell_type": "code",
   "execution_count": 6,
   "metadata": {
    "colab": {
     "base_uri": "https://localhost:8080/"
    },
    "executionInfo": {
     "elapsed": 459,
     "status": "ok",
     "timestamp": 1621776952145,
     "user": {
      "displayName": "Krishan Kumar",
      "photoUrl": "",
      "userId": "12260471180281868064"
     },
     "user_tz": 420
    },
    "id": "aWiaJsGBn5X1",
    "outputId": "c82d7d04-3f42-415e-865b-fdffa562c6cf"
   },
   "outputs": [
    {
     "data": {
      "text/plain": [
       "{(45, 878, 626), 1, 55.62, 6, 8884, 'string'}"
      ]
     },
     "execution_count": 6,
     "metadata": {},
     "output_type": "execute_result"
    }
   ],
   "source": [
    "set2.remove(5)\n",
    "set2"
   ]
  },
  {
   "cell_type": "code",
   "execution_count": 8,
   "metadata": {},
   "outputs": [
    {
     "data": {
      "text/plain": [
       "{(45, 878, 626), 1, 55.62, 6, 8884, 'string'}"
      ]
     },
     "execution_count": 8,
     "metadata": {},
     "output_type": "execute_result"
    }
   ],
   "source": [
    "set2.discard(5)\n",
    "set2"
   ]
  },
  {
   "cell_type": "markdown",
   "metadata": {},
   "source": [
    "### ANSWER:- Discard don't give errors if the element is not present in the set, but remove gives the error if it does not find the element."
   ]
  },
  {
   "cell_type": "markdown",
   "metadata": {
    "id": "232Wx7ZqmJ7u"
   },
   "source": [
    "**[Slide No. 42]**\n",
    "\n",
    "6. Write a program to remove duplicate value from set.\n"
   ]
  },
  {
   "cell_type": "code",
   "execution_count": 10,
   "metadata": {
    "id": "0eDe4Ofln56S"
   },
   "outputs": [
    {
     "data": {
      "text/plain": [
       "{1, 2, 3, 4, 5, 23, 122}"
      ]
     },
     "execution_count": 10,
     "metadata": {},
     "output_type": "execute_result"
    }
   ],
   "source": [
    "list_1 = [1,4,23,2,1,2,3,4,5,122,2,3,4]\n",
    "set_aa = set(list_1)\n",
    "\n",
    "set_aa"
   ]
  },
  {
   "cell_type": "markdown",
   "metadata": {
    "id": "UuFjaDp7mJ-0"
   },
   "source": [
    "7.  Write a Python program to clear a set."
   ]
  },
  {
   "cell_type": "code",
   "execution_count": 11,
   "metadata": {
    "id": "2Wp51_BJn6XI"
   },
   "outputs": [
    {
     "data": {
      "text/plain": [
       "set()"
      ]
     },
     "execution_count": 11,
     "metadata": {},
     "output_type": "execute_result"
    }
   ],
   "source": [
    "set4 = {3,1,23.32,'fsdfs'}\n",
    "set4.clear()\n",
    "set4"
   ]
  },
  {
   "cell_type": "markdown",
   "metadata": {
    "id": "ymIOwvtSmKCN"
   },
   "source": [
    "**[Slide No. 43]**\n",
    "\n",
    "8. Write a program to add two set."
   ]
  },
  {
   "cell_type": "code",
   "execution_count": 14,
   "metadata": {
    "id": "v7HfWA6On7DN"
   },
   "outputs": [
    {
     "data": {
      "text/plain": [
       "{'23', 3, 4, 're'}"
      ]
     },
     "execution_count": 14,
     "metadata": {},
     "output_type": "execute_result"
    }
   ],
   "source": [
    "set_b = {3,'re'}\n",
    "set_c = {4,'23'}\n",
    "\n",
    "set_c.update(set_b)\n",
    "\n",
    "set_c"
   ]
  },
  {
   "cell_type": "markdown",
   "metadata": {
    "id": "MYFq0syFmKFm"
   },
   "source": [
    "**[Slide No. 43]**\n",
    "\n",
    "9. What is the output of:\n",
    "\n",
    "months = set([\"January\",\"February\", \"March\", \"April\", \"May\", \"June\"])   \n",
    "\n",
    "print(\"\\nprinting the original set ... \")    \n",
    "\n",
    "-Q. Print the set month    \n",
    "\n",
    "print(\"\\nRemoving some months from the set...\");    \n",
    "\n",
    "-Q. Remove january  from the set    \n",
    "\n",
    "-Q. Remove may  from the set  \n",
    "\n",
    "\n",
    "print(\"\\nPrinting the modified set...\");    \n",
    "\n",
    "print(months)  \n",
    "\n"
   ]
  },
  {
   "cell_type": "code",
   "execution_count": 25,
   "metadata": {
    "id": "YSeAk9Bin7ij"
   },
   "outputs": [
    {
     "name": "stdout",
     "output_type": "stream",
     "text": [
      "printing the original set...\n",
      " {'February', 'January', 'April', 'May', 'June', 'March'}\n"
     ]
    }
   ],
   "source": [
    "months = set([\"January\",\"February\", \"March\", \"April\", \"May\", \"June\"])\n",
    "\n",
    "print(\"printing the original set...\\n\",months)\n"
   ]
  },
  {
   "cell_type": "code",
   "execution_count": 26,
   "metadata": {},
   "outputs": [
    {
     "name": "stdout",
     "output_type": "stream",
     "text": [
      "Removing some months from the set\n",
      " {'February', 'April', 'May', 'June', 'March'} \n",
      " {'February', 'January', 'April', 'June', 'March'}\n"
     ]
    }
   ],
   "source": [
    "months.remove(\"January\")\n",
    "months_rm_Jan = months\n",
    "months = set([\"January\",\"February\", \"March\", \"April\", \"May\", \"June\"])\n",
    "months.remove(\"May\")\n",
    "months_rm_May = months\n",
    "\n",
    "print(\"Removing some months from the set\\n\",months_rm_Jan,\"\\n\",months_rm_May)\n"
   ]
  },
  {
   "cell_type": "markdown",
   "metadata": {
    "id": "OPGKae_wmKIy"
   },
   "source": [
    "**[Slide No. 44]**\n",
    "\n",
    "10. Find union of\n",
    "\n",
    "Days1 = {\"Monday\",\"Tuesday\",\"Wednesday\",\"Thursday\"}\n",
    "    \n",
    "Days2 = {\"Friday\",\"Saturday\",\"Sunday\"}   "
   ]
  },
  {
   "cell_type": "code",
   "execution_count": 27,
   "metadata": {
    "id": "IJBJD9D106cY"
   },
   "outputs": [
    {
     "data": {
      "text/plain": [
       "{'Friday', 'Monday', 'Saturday', 'Sunday', 'Thursday', 'Tuesday', 'Wednesday'}"
      ]
     },
     "execution_count": 27,
     "metadata": {},
     "output_type": "execute_result"
    }
   ],
   "source": [
    "Days1 = {\"Monday\",\"Tuesday\",\"Wednesday\",\"Thursday\"}\n",
    "\n",
    "Days2 = {\"Friday\",\"Saturday\",\"Sunday\"}\n",
    "\n",
    "Days1.union(Days2)"
   ]
  },
  {
   "cell_type": "markdown",
   "metadata": {
    "id": "VpAPmiIBoNaS"
   },
   "source": [
    "**[Slide No. 45]**\n",
    "\n",
    " 11. Write a Python program to create an intersection of sets."
   ]
  },
  {
   "cell_type": "code",
   "execution_count": 30,
   "metadata": {
    "id": "MRzfzZ3bn8O0"
   },
   "outputs": [
    {
     "data": {
      "text/plain": [
       "{1, 5, 9, 85}"
      ]
     },
     "execution_count": 30,
     "metadata": {},
     "output_type": "execute_result"
    }
   ],
   "source": [
    "w = {1,2,5,6,9,12,85}\n",
    "q = {1,5,85,9,56,58,48,96}\n",
    "\n",
    "w.intersection(q)"
   ]
  },
  {
   "cell_type": "markdown",
   "metadata": {
    "id": "iIFHboGboH9v"
   },
   "source": [
    "**[Slide No. 45]**\n",
    "\n",
    "12. Write a Python program to create set difference."
   ]
  },
  {
   "cell_type": "code",
   "execution_count": 31,
   "metadata": {
    "id": "E5RwOmVNtTie"
   },
   "outputs": [
    {
     "data": {
      "text/plain": [
       "{2, 6, 12}"
      ]
     },
     "execution_count": 31,
     "metadata": {},
     "output_type": "execute_result"
    }
   ],
   "source": [
    "w.difference(q)"
   ]
  },
  {
   "cell_type": "code",
   "execution_count": 32,
   "metadata": {},
   "outputs": [
    {
     "data": {
      "text/plain": [
       "{48, 56, 58, 96}"
      ]
     },
     "execution_count": 32,
     "metadata": {},
     "output_type": "execute_result"
    }
   ],
   "source": [
    "q.difference(w)"
   ]
  },
  {
   "cell_type": "code",
   "execution_count": null,
   "metadata": {},
   "outputs": [],
   "source": []
  }
 ],
 "metadata": {
  "colab": {
   "collapsed_sections": [],
   "name": "Set_Dtype.ipynb",
   "provenance": []
  },
  "kernelspec": {
   "display_name": "Python 3",
   "language": "python",
   "name": "python3"
  },
  "language_info": {
   "codemirror_mode": {
    "name": "ipython",
    "version": 3
   },
   "file_extension": ".py",
   "mimetype": "text/x-python",
   "name": "python",
   "nbconvert_exporter": "python",
   "pygments_lexer": "ipython3",
   "version": "3.8.10"
  }
 },
 "nbformat": 4,
 "nbformat_minor": 1
}
