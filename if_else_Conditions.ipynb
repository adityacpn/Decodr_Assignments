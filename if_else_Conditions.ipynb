{
  "nbformat": 4,
  "nbformat_minor": 0,
  "metadata": {
    "colab": {
      "name": "if_else Conditions.ipynb",
      "provenance": [],
      "collapsed_sections": [],
      "include_colab_link": true
    },
    "kernelspec": {
      "display_name": "Python 3",
      "language": "python",
      "name": "python3"
    },
    "language_info": {
      "codemirror_mode": {
        "name": "ipython",
        "version": 3
      },
      "file_extension": ".py",
      "mimetype": "text/x-python",
      "name": "python",
      "nbconvert_exporter": "python",
      "pygments_lexer": "ipython3",
      "version": "3.8.5"
    }
  },
  "cells": [
    {
      "cell_type": "markdown",
      "metadata": {
        "id": "view-in-github",
        "colab_type": "text"
      },
      "source": [
        "<a href=\"https://colab.research.google.com/github/adityacpn/Decodr_Assignments/blob/master/if_else_Conditions.ipynb\" target=\"_parent\"><img src=\"https://colab.research.google.com/assets/colab-badge.svg\" alt=\"Open In Colab\"/></a>"
      ]
    },
    {
      "cell_type": "markdown",
      "metadata": {
        "id": "R4WDgVjUKTuW"
      },
      "source": [
        "**[Slide no.52]**\n",
        "\n",
        "1. write a program to Check wheather the age entered by user is above 18 or not?"
      ]
    },
    {
      "cell_type": "code",
      "metadata": {
        "id": "QUYDTLIKKVM3",
        "colab": {
          "base_uri": "https://localhost:8080/"
        },
        "outputId": "93ca3bb4-f9c7-4253-a1e2-45af1c94b19b"
      },
      "source": [
        "age=int(input())\n",
        "if age>=18:\n",
        "  print(\"age is above 18\")"
      ],
      "execution_count": 1,
      "outputs": [
        {
          "output_type": "stream",
          "text": [
            "25\n",
            "age is above 18\n"
          ],
          "name": "stdout"
        }
      ]
    },
    {
      "cell_type": "markdown",
      "metadata": {
        "id": "UtMMk_C_KVaA"
      },
      "source": [
        "**[Slide No. 52]**\n",
        "\n",
        "2. Write a program to check number entered is even or not ?"
      ]
    },
    {
      "cell_type": "code",
      "metadata": {
        "id": "tdX72iluKVu5",
        "colab": {
          "base_uri": "https://localhost:8080/"
        },
        "outputId": "c1f8549d-7c55-4745-a703-090f3862f904"
      },
      "source": [
        "num = int(input())\n",
        "if num%2==0:\n",
        "  print(\"number is even\")\n",
        "else:\n",
        "  print(\"number is not even\")"
      ],
      "execution_count": 2,
      "outputs": [
        {
          "output_type": "stream",
          "text": [
            "65\n",
            "number is not even\n"
          ],
          "name": "stdout"
        }
      ]
    },
    {
      "cell_type": "markdown",
      "metadata": {
        "id": "Pf8qWzurKWDn"
      },
      "source": [
        "**[Slide No. 53]**\n",
        "\n",
        "3. Write a program to print largest number from three given numbers."
      ]
    },
    {
      "cell_type": "code",
      "metadata": {
        "id": "RlgJ1ag0MjCy",
        "colab": {
          "base_uri": "https://localhost:8080/"
        },
        "outputId": "22bdd1c8-fe75-4206-b9ab-99e02fa2f42b"
      },
      "source": [
        "a = int(input())\n",
        "b = int(input())\n",
        "c = int(input())\n",
        "\n",
        "if a>b and a>c:\n",
        "  print(a,\",a is largest\")\n",
        "elif b>c and b>a:\n",
        "  print(b,',b is largest')\n",
        "elif c>a and c>b:\n",
        "  print(c,',c is largest')"
      ],
      "execution_count": 3,
      "outputs": [
        {
          "output_type": "stream",
          "text": [
            "665\n",
            "6566\n",
            "656\n",
            "6566 ,b is largest\n"
          ],
          "name": "stdout"
        }
      ]
    },
    {
      "cell_type": "markdown",
      "metadata": {
        "id": "lXjKH26aKWHy"
      },
      "source": [
        "\n",
        "**[Slide No.54]**\n",
        "\n",
        "4. Write a program to check whether the user enter number is 10,50 and 100 .\n",
        "\n"
      ]
    },
    {
      "cell_type": "code",
      "metadata": {
        "id": "4IsUverrMj-s",
        "colab": {
          "base_uri": "https://localhost:8080/"
        },
        "outputId": "b4a02abd-f7a5-4b35-b9b4-159950b024bd"
      },
      "source": [
        "num2 = int(input())\n",
        "if num2==10 or num2==50 or num2==100:\n",
        "  print(\"entered number is 10 or 50 or 100\")\n",
        "else:\n",
        "  print(\"entered num is not 10 or 50 or 100\")"
      ],
      "execution_count": 4,
      "outputs": [
        {
          "output_type": "stream",
          "text": [
            "959\n",
            "entered num is not 10 or 50 or 100\n"
          ],
          "name": "stdout"
        }
      ]
    },
    {
      "cell_type": "markdown",
      "metadata": {
        "id": "hzFpudkgKWhJ"
      },
      "source": [
        "**[Slide No. 54]**\n",
        "\n",
        "5. Write a program to check given number is multiple of 6 or not ."
      ]
    },
    {
      "cell_type": "code",
      "metadata": {
        "id": "GcyVovq0y9Ak",
        "colab": {
          "base_uri": "https://localhost:8080/"
        },
        "outputId": "130651b5-69c6-4d54-e7af-127ad5208c24"
      },
      "source": [
        "num3 = int(input())\n",
        "if num3%6==0:\n",
        "  print(\"number is multiple of 6\")\n",
        "else:\n",
        "  print(\"number is not a multiple of 6\")"
      ],
      "execution_count": 5,
      "outputs": [
        {
          "output_type": "stream",
          "text": [
            "9595\n",
            "number is not a multiple of 6\n"
          ],
          "name": "stdout"
        }
      ]
    },
    {
      "cell_type": "code",
      "metadata": {
        "colab": {
          "base_uri": "https://localhost:8080/"
        },
        "id": "y3nFW1n1WMD-",
        "outputId": "19952ec1-4e6d-4853-fea2-e79b8aaab107"
      },
      "source": [
        "num4 = int(input())\n",
        "print('multiple') if num4%6==0 else print('not multiple')"
      ],
      "execution_count": 6,
      "outputs": [
        {
          "output_type": "stream",
          "text": [
            "626\n",
            "not multiple\n"
          ],
          "name": "stdout"
        }
      ]
    },
    {
      "cell_type": "markdown",
      "metadata": {
        "id": "ih7KTp-1HD9F"
      },
      "source": [
        "6.Write av program to check enter number is prime or not"
      ]
    },
    {
      "cell_type": "code",
      "metadata": {
        "id": "XCZTMjr0HDg-",
        "colab": {
          "base_uri": "https://localhost:8080/"
        },
        "outputId": "6aac0637-dfb7-48da-d1a5-71c7988e6266"
      },
      "source": [
        "num5 = int(input())\n",
        "remainder=[]\n",
        "for x in range(2,num5):\n",
        "  remainder.append(num5%x)\n",
        "if 0 not in remainder:\n",
        "  print('no. is prime')\n",
        "else:\n",
        "  print('no. is not prime')\n"
      ],
      "execution_count": 7,
      "outputs": [
        {
          "output_type": "stream",
          "text": [
            "6595\n",
            "no. is not prime\n"
          ],
          "name": "stdout"
        }
      ]
    },
    {
      "cell_type": "code",
      "metadata": {
        "id": "AzGl-zkySUA1"
      },
      "source": [
        ""
      ],
      "execution_count": 8,
      "outputs": []
    }
  ]
}