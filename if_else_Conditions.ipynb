{
  "nbformat": 4,
  "nbformat_minor": 0,
  "metadata": {
    "colab": {
      "name": "if_else Conditions.ipynb",
      "provenance": [],
      "collapsed_sections": [],
      "include_colab_link": true
    },
    "kernelspec": {
      "display_name": "Python 3",
      "language": "python",
      "name": "python3"
    },
    "language_info": {
      "codemirror_mode": {
        "name": "ipython",
        "version": 3
      },
      "file_extension": ".py",
      "mimetype": "text/x-python",
      "name": "python",
      "nbconvert_exporter": "python",
      "pygments_lexer": "ipython3",
      "version": "3.8.5"
    }
  },
  "cells": [
    {
      "cell_type": "markdown",
      "metadata": {
        "id": "view-in-github",
        "colab_type": "text"
      },
      "source": [
        "<a href=\"https://colab.research.google.com/github/adityacpn/Decodr_Assignments/blob/master/if_else_Conditions.ipynb\" target=\"_parent\"><img src=\"https://colab.research.google.com/assets/colab-badge.svg\" alt=\"Open In Colab\"/></a>"
      ]
    },
    {
      "cell_type": "markdown",
      "metadata": {
        "id": "R4WDgVjUKTuW"
      },
      "source": [
        "**[Slide no.52]**\n",
        "\n",
        "1. write a program to Check wheather the age entered by user is above 18 or not?"
      ]
    },
    {
      "cell_type": "code",
      "metadata": {
        "id": "QUYDTLIKKVM3"
      },
      "source": [
        "age=int(input())\n",
        "if age>=18\n",
        "  print()"
      ],
      "execution_count": null,
      "outputs": []
    },
    {
      "cell_type": "markdown",
      "metadata": {
        "id": "UtMMk_C_KVaA"
      },
      "source": [
        "**[Slide No. 52]**\n",
        "\n",
        "2. Write a program to check number entered is even or not ?"
      ]
    },
    {
      "cell_type": "code",
      "metadata": {
        "id": "tdX72iluKVu5"
      },
      "source": [
        ""
      ],
      "execution_count": null,
      "outputs": []
    },
    {
      "cell_type": "markdown",
      "metadata": {
        "id": "Pf8qWzurKWDn"
      },
      "source": [
        "**[Slide No. 53]**\n",
        "\n",
        "3. Write a program to print largest number from three given numbers."
      ]
    },
    {
      "cell_type": "code",
      "metadata": {
        "id": "RlgJ1ag0MjCy"
      },
      "source": [
        ""
      ],
      "execution_count": null,
      "outputs": []
    },
    {
      "cell_type": "markdown",
      "metadata": {
        "id": "lXjKH26aKWHy"
      },
      "source": [
        "**[Slide No.54]**\n",
        "\n",
        "4. Write a program to check whether the user enter number is 10,50 and 100 .\n",
        "\n"
      ]
    },
    {
      "cell_type": "code",
      "metadata": {
        "id": "4IsUverrMj-s"
      },
      "source": [
        ""
      ],
      "execution_count": null,
      "outputs": []
    },
    {
      "cell_type": "markdown",
      "metadata": {
        "id": "hzFpudkgKWhJ"
      },
      "source": [
        "**[Slide No. 54]**\n",
        "\n",
        "5. Write a program to check given number is multiple of 6 or not ."
      ]
    },
    {
      "cell_type": "code",
      "metadata": {
        "id": "GcyVovq0y9Ak"
      },
      "source": [
        ""
      ],
      "execution_count": null,
      "outputs": []
    },
    {
      "cell_type": "markdown",
      "metadata": {
        "id": "ih7KTp-1HD9F"
      },
      "source": [
        "6.Write av program to check enter number is prime or not"
      ]
    },
    {
      "cell_type": "code",
      "metadata": {
        "id": "XCZTMjr0HDg-"
      },
      "source": [
        "\n",
        "\n"
      ],
      "execution_count": null,
      "outputs": []
    },
    {
      "cell_type": "code",
      "metadata": {
        "id": "AzGl-zkySUA1"
      },
      "source": [
        ""
      ],
      "execution_count": null,
      "outputs": []
    },
    {
      "cell_type": "code",
      "metadata": {
        "id": "SPjxvgXkdPPl"
      },
      "source": [
        ""
      ],
      "execution_count": null,
      "outputs": []
    }
  ]
}